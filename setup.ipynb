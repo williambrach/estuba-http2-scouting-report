{
 "cells": [
  {
   "cell_type": "code",
   "execution_count": 29,
   "metadata": {},
   "outputs": [],
   "source": [
    "from src import api\n",
    "from src import wiki"
   ]
  },
  {
   "cell_type": "code",
   "execution_count": null,
   "metadata": {},
   "outputs": [],
   "source": [
    "url = \"https://lolpros.gg/player/goksi\"\n",
    "player_data = api.get_player_data_by_lolpros(url, last_n=20)"
   ]
  },
  {
   "cell_type": "code",
   "execution_count": 33,
   "metadata": {},
   "outputs": [
    {
     "name": "stderr",
     "output_type": "stream",
     "text": [
      "2023-06-05 22:38:16,500 - INFO - Looking for team - sampi\n",
      "2023-06-05 22:38:16,500 - INFO - Query url - https://lol.fandom.com/wiki/Special:RunQuery/MatchHistoryGame?MHG%5Bpreload%5D=Tournament&MHG%5Btournament%5D=Hitpoint+Masters%2F2023+Season%2FSpring+Season&MHG%5Bteam%5D=sampi&MHG%5Bteam1%5D=&MHG%5Bteam2%5D=&MHG%5Bban%5D=&MHG%5Brecord%5D=&MHG%5Bascending%5D%5Bis_checkbox%5D=true&MHG%5Blimit%5D=&MHG%5Boffset%5D=&MHG%5Bregion%5D=&MHG%5Byear%5D=&MHG%5Bstartdate%5D=&MHG%5Benddate%5D=&MHG%5Bwhere%5D=&MHG%5Btextonly%5D%5Bis_checkbox%5D=true&_run=&pfRunQueryFormName=MatchHistoryGame\n",
      "2023-06-05 22:38:18,149 - INFO - sampi parsing successful\n"
     ]
    }
   ],
   "source": [
    "team_picks, bans, bans_against = wiki.get_team_data_from_lol_wiki(\"sampi\")"
   ]
  },
  {
   "cell_type": "code",
   "execution_count": 61,
   "metadata": {},
   "outputs": [
    {
     "name": "stderr",
     "output_type": "stream",
     "text": [
      "2023-06-05 22:59:35,735 - INFO - Looking for team - sampi\n",
      "2023-06-05 22:59:35,736 - INFO - Query url - https://lol.fandom.com/wiki/Special:RunQuery/MatchHistoryGame?MHG%5Bpreload%5D=Tournament&MHG%5Btournament%5D=Hitpoint+Masters%2F2023+Season%2FSpring+Season&MHG%5Bteam%5D=sampi&MHG%5Bteam1%5D=&MHG%5Bteam2%5D=&MHG%5Bban%5D=&MHG%5Brecord%5D=&MHG%5Bascending%5D%5Bis_checkbox%5D=true&MHG%5Blimit%5D=&MHG%5Boffset%5D=&MHG%5Bregion%5D=&MHG%5Byear%5D=&MHG%5Bstartdate%5D=&MHG%5Benddate%5D=&MHG%5Bwhere%5D=&MHG%5Btextonly%5D%5Bis_checkbox%5D=true&_run=&pfRunQueryFormName=MatchHistoryGame\n",
      "2023-06-05 22:59:37,305 - INFO - sampi parsing successful\n"
     ]
    },
    {
     "name": "stdout",
     "output_type": "stream",
     "text": [
      "1\n"
     ]
    },
    {
     "name": "stderr",
     "output_type": "stream",
     "text": [
      "2023-06-05 22:59:39,839 - INFO - player - goksi | ids found - ['Goksiáš', 'Jiàn de lìliàng']\n",
      "2023-06-05 22:59:44,938 - INFO - Goksiáš | soloq : MASTER I 272 | flexq : Unranked\n",
      "2023-06-05 22:59:50,494 - INFO - Jiàn de lìliàng | soloq : PLATINUM I 76 | flexq : SILVER III 60\n"
     ]
    }
   ],
   "source": [
    "import psycopg2\n",
    "from psycopg2 import extras\n",
    "import pandas as pd\n",
    "from datetime import datetime\n",
    "\n",
    "try:\n",
    "    # Establish a connection to the PostgreSQL database\n",
    "    conn = psycopg2.connect(\n",
    "        host=\"postgresql.r5.websupport.sk\",\n",
    "        database=\"brch_db\",\n",
    "        user=\"brch_admin\",\n",
    "        password=\"Ps8zV>95Dg\"\n",
    "    )\n",
    "\n",
    "    with conn.cursor() as cur:\n",
    "        # Fetch teams data from the database\n",
    "        cur.execute(\"SELECT id, name, queryname, url, stats FROM team\")\n",
    "        teams = cur.fetchall()\n",
    "        teams = pd.DataFrame(teams, columns=[\"id\", \"name\", \"queryname\", \"url\", \"stats\"])\n",
    "\n",
    "        for _, team in teams.iterrows():\n",
    "            # Handle team params\n",
    "            # ----------------------------\n",
    "            query = team['queryname']\n",
    "            team_id = team['id']\n",
    "            team_picks, bans, bans_against = wiki.get_team_data_from_lol_wiki(\"sampi\")\n",
    "            dt_string = datetime.now().strftime(\"%d-%m-%Y %H:%M:%S\")\n",
    "            stats = {\n",
    "                \"picks\": team_picks,\n",
    "                \"bans\": bans,\n",
    "                \"bans_against\": bans_against\n",
    "            }\n",
    "            stats = extras.Json(stats)\n",
    "\n",
    "            # Update team stats\n",
    "            # ----------------------------\n",
    "            update_query = \"\"\"\n",
    "                UPDATE team\n",
    "                SET stats = %s, last_update = %s\n",
    "                WHERE id = %s\n",
    "            \"\"\"\n",
    "            cur.execute(update_query, (stats, dt_string, team_id))\n",
    "\n",
    "\n",
    "            cur.execute(f\"SELECT id, name, lolprosurl, alternativeids FROM player WHERE teamid = {team_id}\")\n",
    "            team_players = cur.fetchall()\n",
    "            team_players = pd.DataFrame(team_players, columns=[\"id\", \"name\", \"lolprosurl\", \"alternativeids\"])\n",
    "            print(len(team_players))\n",
    "            for _, player in team_players.iterrows():\n",
    "                url = player['lolprosurl'] #\"https://lolpros.gg/player/goksi\"\n",
    "                player_id = player['id']\n",
    "                player_data = api.get_player_data_by_lolpros(url, last_n=20)\n",
    "                player_data = extras.Json(player_data)\n",
    "                update_player_query = \"\"\"\n",
    "                UPDATE player\n",
    "                SET accounts = %s, last_update = %s\n",
    "                WHERE id = %s\n",
    "                \"\"\"\n",
    "                cur.execute(update_player_query, (player_data, dt_string, player_id))\n",
    "\n",
    "        # Commit the changes to the database\n",
    "        conn.commit()\n",
    "    \n",
    "except Exception as e:\n",
    "    print(e)\n",
    "finally:\n",
    "    # Close the cursor and the connection\n",
    "    cur.close()\n",
    "    conn.close()\n"
   ]
  },
  {
   "cell_type": "code",
   "execution_count": 54,
   "metadata": {},
   "outputs": [],
   "source": []
  },
  {
   "cell_type": "code",
   "execution_count": 12,
   "metadata": {},
   "outputs": [],
   "source": [
    "# Close the connection\n",
    "conn.close()"
   ]
  }
 ],
 "metadata": {
  "kernelspec": {
   "display_name": "estuba",
   "language": "python",
   "name": "python3"
  },
  "language_info": {
   "codemirror_mode": {
    "name": "ipython",
    "version": 3
   },
   "file_extension": ".py",
   "mimetype": "text/x-python",
   "name": "python",
   "nbconvert_exporter": "python",
   "pygments_lexer": "ipython3",
   "version": "3.9.16"
  },
  "orig_nbformat": 4
 },
 "nbformat": 4,
 "nbformat_minor": 2
}
